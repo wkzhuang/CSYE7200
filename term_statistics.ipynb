{
  "nbformat": 4,
  "nbformat_minor": 0,
  "metadata": {
    "colab": {
      "provenance": [],
      "collapsed_sections": [],
      "include_colab_link": true
    },
    "kernelspec": {
      "name": "python3",
      "display_name": "Python 3"
    },
    "language_info": {
      "name": "python"
    }
  },
  "cells": [
    {
      "cell_type": "markdown",
      "metadata": {
        "id": "view-in-github",
        "colab_type": "text"
      },
      "source": [
        "<a href=\"https://colab.research.google.com/github/wkzhuang/CSYE7200/blob/main/term_statistics.ipynb\" target=\"_parent\"><img src=\"https://colab.research.google.com/assets/colab-badge.svg\" alt=\"Open In Colab\"/></a>"
      ]
    },
    {
      "cell_type": "markdown",
      "source": [
        "Weikun Zhuang 001537998"
      ],
      "metadata": {
        "id": "DS_WFzrf5J9s"
      }
    },
    {
      "cell_type": "markdown",
      "metadata": {
        "id": "2yYCQrU0J5C5"
      },
      "source": [
        "# Working with Terms and Documents\n",
        "\n",
        "This first homework assignment starts off with term statistics computations and graphing. In the final section (for CS6200 students), you collect new documents to experiment with.\n",
        "\n",
        "Read through this Jupyter notebook and fill in the parts marked with `TODO`."
      ]
    },
    {
      "cell_type": "markdown",
      "metadata": {
        "id": "tA4bCPS1MmAx"
      },
      "source": [
        "## Sample Data\n",
        "\n",
        "Start by looking at some sample data. We donwload the counts of terms in documents for the first one million tokens of a newswire collection."
      ]
    },
    {
      "cell_type": "code",
      "metadata": {
        "id": "W-IMINS4IFUg",
        "colab": {
          "base_uri": "https://localhost:8080/"
        },
        "outputId": "88fb70fd-3bee-4627-9510-c526bdb69992"
      },
      "source": [
        "!wget -O ap201001.json.gz https://github.com/dasmiq/cs6200-hw1/blob/main/ap201001.json.gz?raw=true\n",
        "!gunzip ap201001.json.gz"
      ],
      "execution_count": 1,
      "outputs": [
        {
          "output_type": "stream",
          "name": "stdout",
          "text": [
            "--2022-10-05 00:50:56--  https://github.com/dasmiq/cs6200-hw1/blob/main/ap201001.json.gz?raw=true\n",
            "Resolving github.com (github.com)... 192.30.255.113\n",
            "Connecting to github.com (github.com)|192.30.255.113|:443... connected.\n",
            "HTTP request sent, awaiting response... 302 Found\n",
            "Location: https://github.com/dasmiq/cs6200-hw1/raw/main/ap201001.json.gz [following]\n",
            "--2022-10-05 00:50:56--  https://github.com/dasmiq/cs6200-hw1/raw/main/ap201001.json.gz\n",
            "Reusing existing connection to github.com:443.\n",
            "HTTP request sent, awaiting response... 302 Found\n",
            "Location: https://raw.githubusercontent.com/dasmiq/cs6200-hw1/main/ap201001.json.gz [following]\n",
            "--2022-10-05 00:50:57--  https://raw.githubusercontent.com/dasmiq/cs6200-hw1/main/ap201001.json.gz\n",
            "Resolving raw.githubusercontent.com (raw.githubusercontent.com)... 185.199.111.133, 185.199.108.133, 185.199.109.133, ...\n",
            "Connecting to raw.githubusercontent.com (raw.githubusercontent.com)|185.199.111.133|:443... connected.\n",
            "HTTP request sent, awaiting response... 200 OK\n",
            "Length: 2854711 (2.7M) [application/octet-stream]\n",
            "Saving to: ‘ap201001.json.gz’\n",
            "\n",
            "ap201001.json.gz    100%[===================>]   2.72M  --.-KB/s    in 0.04s   \n",
            "\n",
            "2022-10-05 00:50:57 (70.1 MB/s) - ‘ap201001.json.gz’ saved [2854711/2854711]\n",
            "\n"
          ]
        }
      ]
    },
    {
      "cell_type": "markdown",
      "metadata": {
        "id": "_SEFjGZvM4lY"
      },
      "source": [
        "We convert this file with one JSON record on each line to a list of dictionaries."
      ]
    },
    {
      "cell_type": "code",
      "metadata": {
        "id": "6CrLD5SOIMz1"
      },
      "source": [
        "import json\n",
        "rawfile = open('ap201001.json')\n",
        "terms = [json.loads(line) for line in rawfile]"
      ],
      "execution_count": 2,
      "outputs": []
    },
    {
      "cell_type": "markdown",
      "metadata": {
        "id": "Rg4P9XJJM_lZ"
      },
      "source": [
        "Here are the first ten records, showing the count of each term for each document and field. In this dataset, field only takes the values `body` or `title`."
      ]
    },
    {
      "cell_type": "code",
      "metadata": {
        "colab": {
          "base_uri": "https://localhost:8080/"
        },
        "id": "g8GdOuyzI0wm",
        "outputId": "d2f6a29c-cd9b-4f1f-e32c-80e3b639a16c"
      },
      "source": [
        "terms[1:10]"
      ],
      "execution_count": 3,
      "outputs": [
        {
          "output_type": "execute_result",
          "data": {
            "text/plain": [
              "[{'id': 'APW_ENG_20100101.0001', 'field': 'body', 'term': 'about', 'count': 1},\n",
              " {'id': 'APW_ENG_20100101.0001', 'field': 'body', 'term': 'abuse', 'count': 1},\n",
              " {'id': 'APW_ENG_20100101.0001',\n",
              "  'field': 'body',\n",
              "  'term': 'academy',\n",
              "  'count': 1},\n",
              " {'id': 'APW_ENG_20100101.0001',\n",
              "  'field': 'body',\n",
              "  'term': 'accused',\n",
              "  'count': 2},\n",
              " {'id': 'APW_ENG_20100101.0001',\n",
              "  'field': 'body',\n",
              "  'term': 'actress',\n",
              "  'count': 1},\n",
              " {'id': 'APW_ENG_20100101.0001', 'field': 'body', 'term': 'ad', 'count': 1},\n",
              " {'id': 'APW_ENG_20100101.0001', 'field': 'body', 'term': 'after', 'count': 1},\n",
              " {'id': 'APW_ENG_20100101.0001',\n",
              "  'field': 'body',\n",
              "  'term': 'agenda',\n",
              "  'count': 1},\n",
              " {'id': 'APW_ENG_20100101.0001',\n",
              "  'field': 'body',\n",
              "  'term': 'agreed',\n",
              "  'count': 1}]"
            ]
          },
          "metadata": {},
          "execution_count": 3
        }
      ]
    },
    {
      "cell_type": "markdown",
      "metadata": {
        "id": "q-CjFLXH3BJg"
      },
      "source": [
        "Each record has four fields:\n",
        "* `id`, with the identifier for the document;\n",
        "* `field`, with the region of the document containing a given term;\n",
        "* `term`, with the lower-cased term; and\n",
        "* `count`, with the number of times each term occurred in that field and document."
      ]
    },
    {
      "cell_type": "markdown",
      "metadata": {
        "id": "2H5yBvEVNUPr"
      },
      "source": [
        "## Computing Term Statistics\n"
      ]
    },
    {
      "cell_type": "markdown",
      "metadata": {
        "id": "qhDt23kKv0Uy"
      },
      "source": [
        "If we look at the most frequent terms for a given document, we mostly see common function words, such as `the`, `and`, and `of`. Start exploring the dataset by computing some of these basic term statistics. You can make your life easier using data frame libraries such as `pandas`, core python libraries such as `collections`, or just simple list comprehensions.\n",
        "\n",
        "Feel free to define helper functions in your code before computing the statistics we're looking for."
      ]
    },
    {
      "cell_type": "code",
      "metadata": {
        "id": "2Zy5qR562nZ5",
        "colab": {
          "base_uri": "https://localhost:8080/"
        },
        "outputId": "33b3ea36-3c8c-4b15-cce5-544ae913acb4"
      },
      "source": [
        "# TODO: Print the 6 terms from document APW_ENG_20100101.0001 with the highest count.\n",
        "doc_terms = [term for term in terms if term.get('id') == 'APW_ENG_20100101.0001']\n",
        "count_desc = sorted(doc_terms, key=lambda x:x['count'], reverse=True)[0:6]\n",
        "print([term['term'] for term in count_desc])"
      ],
      "execution_count": 4,
      "outputs": [
        {
          "output_type": "stream",
          "name": "stdout",
          "text": [
            "['a', 'the', 'and', 'brooks', 'of', 'to']\n"
          ]
        }
      ]
    },
    {
      "cell_type": "code",
      "metadata": {
        "id": "z7BvW8NR2ynC",
        "colab": {
          "base_uri": "https://localhost:8080/"
        },
        "outputId": "973c916f-f805-4d9c-f556-2297a424e01f"
      },
      "source": [
        "# TODO: Print the 10 terms from all fields of document APW_ENG_20100102.0077 with the highest count.\n",
        "doc2_terms = [term for term in terms if term.get('id') == 'APW_ENG_20100102.0077']\n",
        "count_desc_2 = sorted(doc_terms, key=lambda x:x['count'], reverse=True)[0:10]\n",
        "print([term['term'] for term in count_desc_2])"
      ],
      "execution_count": 5,
      "outputs": [
        {
          "output_type": "stream",
          "name": "stdout",
          "text": [
            "['a', 'the', 'and', 'brooks', 'of', 'to', 'he', 'in', 'gomez', 'for']\n"
          ]
        }
      ]
    },
    {
      "cell_type": "code",
      "source": [
        "import pandas as pd"
      ],
      "metadata": {
        "id": "TJqi5pAK07A9"
      },
      "execution_count": 6,
      "outputs": []
    },
    {
      "cell_type": "code",
      "metadata": {
        "id": "U7OwCo0w5R1q",
        "colab": {
          "base_uri": "https://localhost:8080/"
        },
        "outputId": "04ba387a-43bb-4d34-9536-97c02a2eb70f"
      },
      "source": [
        "# TODO: Print the 10 terms with the highest total count in the corpus.\n",
        "\n",
        "# extract term and value only and turn to dataframe\n",
        "term_count = pd.DataFrame(terms)[['term','count']]\n",
        "\n",
        "# I interpreted as 10 most frequent terms across all documents\n",
        "# If this is asking for just the highest 10 count numbers, we can do\n",
        "# term_count.loc[term_count['count'].drop_duplicates().nlargest(10).index]\n",
        "\n",
        "# combine counts of the same term\n",
        "df_new = term_count.groupby(term_count['term']).aggregate('sum')\n",
        "\n",
        "# retrieve 10 highest count\n",
        "df_new['count'].nlargest(10)"
      ],
      "execution_count": 7,
      "outputs": [
        {
          "output_type": "execute_result",
          "data": {
            "text/plain": [
              "term\n",
              "the     62216\n",
              "to      26931\n",
              "in      25659\n",
              "a       23383\n",
              "of      22326\n",
              "and     22125\n",
              "said    10888\n",
              "for      9716\n",
              "on       9382\n",
              "that     8942\n",
              "Name: count, dtype: int64"
            ]
          },
          "metadata": {},
          "execution_count": 7
        }
      ]
    },
    {
      "cell_type": "markdown",
      "metadata": {
        "id": "dnNEUACW23Dd"
      },
      "source": [
        "Raw counts may not be the most informative statistic. One common improvement is to use *inverse document frequency*, the inverse of the proportion of documents that contain a given term."
      ]
    },
    {
      "cell_type": "code",
      "metadata": {
        "id": "uiUA502P2QkH"
      },
      "source": [
        "# TODO: Compute the number of distinct documents in the collection.\n",
        "N = len(set([term['id'] for term in terms]))\n",
        "\n",
        "# TODO: Compute the number of distinct documents each term appears in\n",
        "# and store in a dictionary.\n",
        "df = dict(pd.DataFrame(terms).groupby('term')['id'].nunique())"
      ],
      "execution_count": 18,
      "outputs": []
    },
    {
      "cell_type": "code",
      "metadata": {
        "id": "_XMPAKYNCq6Y",
        "colab": {
          "base_uri": "https://localhost:8080/"
        },
        "outputId": "043918cb-98e9-4c2d-c227-fd02776a3aae"
      },
      "source": [
        "# TODO: Print the relative document frequency of 'the',\n",
        "# i.e., the number of documents that contain 'the' divided by N.\n",
        "\n",
        "print(df.get('the')/N)"
      ],
      "execution_count": 19,
      "outputs": [
        {
          "output_type": "stream",
          "name": "stdout",
          "text": [
            "0.9704823614110871\n"
          ]
        }
      ]
    },
    {
      "cell_type": "markdown",
      "metadata": {
        "id": "ohFmwtc7Chy3"
      },
      "source": [
        "Empricially, we usually see better retrieval results if we rescale term frequency (within documents) and inverse document frequency (across documents) with the log function. Let the `tfidf` of term _t_ in document _d_ be:\n",
        "```\n",
        "tfidf(t, d) = log(count(t, d) + 1) * log(N / df(t))\n",
        "```\n",
        "\n",
        "Later in the course, we will show a probabilistic derivation of this quantity based on smoothing language models."
      ]
    },
    {
      "cell_type": "code",
      "source": [
        "import math"
      ],
      "metadata": {
        "id": "ww9yDoTX4-JG"
      },
      "execution_count": 22,
      "outputs": []
    },
    {
      "cell_type": "code",
      "metadata": {
        "id": "Fmyj4v_uHdyo"
      },
      "source": [
        "# TODO: Compute the tf-idf value for each term in each document.\n",
        "# Take the raw term data and add a tfidf field to each record.\n",
        "tfidf_terms = terms.copy()\n",
        "for record in tfidf_terms:\n",
        "  record['tfidf'] = math.log(record['count']+1)*math.log(N/df['term'])"
      ],
      "execution_count": 24,
      "outputs": []
    },
    {
      "cell_type": "code",
      "metadata": {
        "id": "NlXQmMO9HxH0",
        "colab": {
          "base_uri": "https://localhost:8080/",
          "height": 677
        },
        "outputId": "8104f84d-89cd-4fd8-bfc5-b0e0c301f04c"
      },
      "source": [
        "# TODO: Print the 20 term-document pairs with the highest tf-idf values.\n",
        "tfidf_DF = pd.DataFrame(tfidf_terms)\n",
        "tfidf_DF.loc[tfidf_DF['tfidf'].nlargest(20).index]"
      ],
      "execution_count": 38,
      "outputs": [
        {
          "output_type": "execute_result",
          "data": {
            "text/plain": [
              "                           id field        term  count      tfidf\n",
              "453067  APW_ENG_20100107.0183  body         the    149  15.538846\n",
              "445595  APW_ENG_20100107.0114  body         the    104  14.432735\n",
              "377799  APW_ENG_20100106.0834  body         the    102  14.373095\n",
              "378541  APW_ENG_20100106.0839  body         the    102  14.373095\n",
              "385416  APW_ENG_20100106.0913  body         the    102  14.373095\n",
              "385985  APW_ENG_20100106.0915  body         the    102  14.373095\n",
              "396868  APW_ENG_20100106.1032  body         the    102  14.373095\n",
              "397896  APW_ENG_20100106.1037  body         the    102  14.373095\n",
              "163124  APW_ENG_20100104.0648  body         the    101  14.342840\n",
              "164302  APW_ENG_20100104.0660  body         the    101  14.342840\n",
              "367433  APW_ENG_20100106.0728  body         the    101  14.342840\n",
              "353350  APW_ENG_20100106.0562  body         the    100  14.312286\n",
              "361343  APW_ENG_20100106.0644  body         the    100  14.312286\n",
              "100324  APW_ENG_20100103.0524  body         the     98  14.250261\n",
              "285263  APW_ENG_20100105.0990  body         the     98  14.250261\n",
              "443304  APW_ENG_20100107.0099  body         the     98  14.250261\n",
              "406606  APW_ENG_20100106.1151  body         the     97  14.218776\n",
              "454192  APW_ENG_20100107.0190  body         the     97  14.218776\n",
              "199263  APW_ENG_20100105.0061  body  nomination     95  14.154832\n",
              "372378  APW_ENG_20100106.0776  body         the     95  14.154832"
            ],
            "text/html": [
              "\n",
              "  <div id=\"df-35c3316c-2fd1-475b-bc29-a59c30b86866\">\n",
              "    <div class=\"colab-df-container\">\n",
              "      <div>\n",
              "<style scoped>\n",
              "    .dataframe tbody tr th:only-of-type {\n",
              "        vertical-align: middle;\n",
              "    }\n",
              "\n",
              "    .dataframe tbody tr th {\n",
              "        vertical-align: top;\n",
              "    }\n",
              "\n",
              "    .dataframe thead th {\n",
              "        text-align: right;\n",
              "    }\n",
              "</style>\n",
              "<table border=\"1\" class=\"dataframe\">\n",
              "  <thead>\n",
              "    <tr style=\"text-align: right;\">\n",
              "      <th></th>\n",
              "      <th>id</th>\n",
              "      <th>field</th>\n",
              "      <th>term</th>\n",
              "      <th>count</th>\n",
              "      <th>tfidf</th>\n",
              "    </tr>\n",
              "  </thead>\n",
              "  <tbody>\n",
              "    <tr>\n",
              "      <th>453067</th>\n",
              "      <td>APW_ENG_20100107.0183</td>\n",
              "      <td>body</td>\n",
              "      <td>the</td>\n",
              "      <td>149</td>\n",
              "      <td>15.538846</td>\n",
              "    </tr>\n",
              "    <tr>\n",
              "      <th>445595</th>\n",
              "      <td>APW_ENG_20100107.0114</td>\n",
              "      <td>body</td>\n",
              "      <td>the</td>\n",
              "      <td>104</td>\n",
              "      <td>14.432735</td>\n",
              "    </tr>\n",
              "    <tr>\n",
              "      <th>377799</th>\n",
              "      <td>APW_ENG_20100106.0834</td>\n",
              "      <td>body</td>\n",
              "      <td>the</td>\n",
              "      <td>102</td>\n",
              "      <td>14.373095</td>\n",
              "    </tr>\n",
              "    <tr>\n",
              "      <th>378541</th>\n",
              "      <td>APW_ENG_20100106.0839</td>\n",
              "      <td>body</td>\n",
              "      <td>the</td>\n",
              "      <td>102</td>\n",
              "      <td>14.373095</td>\n",
              "    </tr>\n",
              "    <tr>\n",
              "      <th>385416</th>\n",
              "      <td>APW_ENG_20100106.0913</td>\n",
              "      <td>body</td>\n",
              "      <td>the</td>\n",
              "      <td>102</td>\n",
              "      <td>14.373095</td>\n",
              "    </tr>\n",
              "    <tr>\n",
              "      <th>385985</th>\n",
              "      <td>APW_ENG_20100106.0915</td>\n",
              "      <td>body</td>\n",
              "      <td>the</td>\n",
              "      <td>102</td>\n",
              "      <td>14.373095</td>\n",
              "    </tr>\n",
              "    <tr>\n",
              "      <th>396868</th>\n",
              "      <td>APW_ENG_20100106.1032</td>\n",
              "      <td>body</td>\n",
              "      <td>the</td>\n",
              "      <td>102</td>\n",
              "      <td>14.373095</td>\n",
              "    </tr>\n",
              "    <tr>\n",
              "      <th>397896</th>\n",
              "      <td>APW_ENG_20100106.1037</td>\n",
              "      <td>body</td>\n",
              "      <td>the</td>\n",
              "      <td>102</td>\n",
              "      <td>14.373095</td>\n",
              "    </tr>\n",
              "    <tr>\n",
              "      <th>163124</th>\n",
              "      <td>APW_ENG_20100104.0648</td>\n",
              "      <td>body</td>\n",
              "      <td>the</td>\n",
              "      <td>101</td>\n",
              "      <td>14.342840</td>\n",
              "    </tr>\n",
              "    <tr>\n",
              "      <th>164302</th>\n",
              "      <td>APW_ENG_20100104.0660</td>\n",
              "      <td>body</td>\n",
              "      <td>the</td>\n",
              "      <td>101</td>\n",
              "      <td>14.342840</td>\n",
              "    </tr>\n",
              "    <tr>\n",
              "      <th>367433</th>\n",
              "      <td>APW_ENG_20100106.0728</td>\n",
              "      <td>body</td>\n",
              "      <td>the</td>\n",
              "      <td>101</td>\n",
              "      <td>14.342840</td>\n",
              "    </tr>\n",
              "    <tr>\n",
              "      <th>353350</th>\n",
              "      <td>APW_ENG_20100106.0562</td>\n",
              "      <td>body</td>\n",
              "      <td>the</td>\n",
              "      <td>100</td>\n",
              "      <td>14.312286</td>\n",
              "    </tr>\n",
              "    <tr>\n",
              "      <th>361343</th>\n",
              "      <td>APW_ENG_20100106.0644</td>\n",
              "      <td>body</td>\n",
              "      <td>the</td>\n",
              "      <td>100</td>\n",
              "      <td>14.312286</td>\n",
              "    </tr>\n",
              "    <tr>\n",
              "      <th>100324</th>\n",
              "      <td>APW_ENG_20100103.0524</td>\n",
              "      <td>body</td>\n",
              "      <td>the</td>\n",
              "      <td>98</td>\n",
              "      <td>14.250261</td>\n",
              "    </tr>\n",
              "    <tr>\n",
              "      <th>285263</th>\n",
              "      <td>APW_ENG_20100105.0990</td>\n",
              "      <td>body</td>\n",
              "      <td>the</td>\n",
              "      <td>98</td>\n",
              "      <td>14.250261</td>\n",
              "    </tr>\n",
              "    <tr>\n",
              "      <th>443304</th>\n",
              "      <td>APW_ENG_20100107.0099</td>\n",
              "      <td>body</td>\n",
              "      <td>the</td>\n",
              "      <td>98</td>\n",
              "      <td>14.250261</td>\n",
              "    </tr>\n",
              "    <tr>\n",
              "      <th>406606</th>\n",
              "      <td>APW_ENG_20100106.1151</td>\n",
              "      <td>body</td>\n",
              "      <td>the</td>\n",
              "      <td>97</td>\n",
              "      <td>14.218776</td>\n",
              "    </tr>\n",
              "    <tr>\n",
              "      <th>454192</th>\n",
              "      <td>APW_ENG_20100107.0190</td>\n",
              "      <td>body</td>\n",
              "      <td>the</td>\n",
              "      <td>97</td>\n",
              "      <td>14.218776</td>\n",
              "    </tr>\n",
              "    <tr>\n",
              "      <th>199263</th>\n",
              "      <td>APW_ENG_20100105.0061</td>\n",
              "      <td>body</td>\n",
              "      <td>nomination</td>\n",
              "      <td>95</td>\n",
              "      <td>14.154832</td>\n",
              "    </tr>\n",
              "    <tr>\n",
              "      <th>372378</th>\n",
              "      <td>APW_ENG_20100106.0776</td>\n",
              "      <td>body</td>\n",
              "      <td>the</td>\n",
              "      <td>95</td>\n",
              "      <td>14.154832</td>\n",
              "    </tr>\n",
              "  </tbody>\n",
              "</table>\n",
              "</div>\n",
              "      <button class=\"colab-df-convert\" onclick=\"convertToInteractive('df-35c3316c-2fd1-475b-bc29-a59c30b86866')\"\n",
              "              title=\"Convert this dataframe to an interactive table.\"\n",
              "              style=\"display:none;\">\n",
              "        \n",
              "  <svg xmlns=\"http://www.w3.org/2000/svg\" height=\"24px\"viewBox=\"0 0 24 24\"\n",
              "       width=\"24px\">\n",
              "    <path d=\"M0 0h24v24H0V0z\" fill=\"none\"/>\n",
              "    <path d=\"M18.56 5.44l.94 2.06.94-2.06 2.06-.94-2.06-.94-.94-2.06-.94 2.06-2.06.94zm-11 1L8.5 8.5l.94-2.06 2.06-.94-2.06-.94L8.5 2.5l-.94 2.06-2.06.94zm10 10l.94 2.06.94-2.06 2.06-.94-2.06-.94-.94-2.06-.94 2.06-2.06.94z\"/><path d=\"M17.41 7.96l-1.37-1.37c-.4-.4-.92-.59-1.43-.59-.52 0-1.04.2-1.43.59L10.3 9.45l-7.72 7.72c-.78.78-.78 2.05 0 2.83L4 21.41c.39.39.9.59 1.41.59.51 0 1.02-.2 1.41-.59l7.78-7.78 2.81-2.81c.8-.78.8-2.07 0-2.86zM5.41 20L4 18.59l7.72-7.72 1.47 1.35L5.41 20z\"/>\n",
              "  </svg>\n",
              "      </button>\n",
              "      \n",
              "  <style>\n",
              "    .colab-df-container {\n",
              "      display:flex;\n",
              "      flex-wrap:wrap;\n",
              "      gap: 12px;\n",
              "    }\n",
              "\n",
              "    .colab-df-convert {\n",
              "      background-color: #E8F0FE;\n",
              "      border: none;\n",
              "      border-radius: 50%;\n",
              "      cursor: pointer;\n",
              "      display: none;\n",
              "      fill: #1967D2;\n",
              "      height: 32px;\n",
              "      padding: 0 0 0 0;\n",
              "      width: 32px;\n",
              "    }\n",
              "\n",
              "    .colab-df-convert:hover {\n",
              "      background-color: #E2EBFA;\n",
              "      box-shadow: 0px 1px 2px rgba(60, 64, 67, 0.3), 0px 1px 3px 1px rgba(60, 64, 67, 0.15);\n",
              "      fill: #174EA6;\n",
              "    }\n",
              "\n",
              "    [theme=dark] .colab-df-convert {\n",
              "      background-color: #3B4455;\n",
              "      fill: #D2E3FC;\n",
              "    }\n",
              "\n",
              "    [theme=dark] .colab-df-convert:hover {\n",
              "      background-color: #434B5C;\n",
              "      box-shadow: 0px 1px 3px 1px rgba(0, 0, 0, 0.15);\n",
              "      filter: drop-shadow(0px 1px 2px rgba(0, 0, 0, 0.3));\n",
              "      fill: #FFFFFF;\n",
              "    }\n",
              "  </style>\n",
              "\n",
              "      <script>\n",
              "        const buttonEl =\n",
              "          document.querySelector('#df-35c3316c-2fd1-475b-bc29-a59c30b86866 button.colab-df-convert');\n",
              "        buttonEl.style.display =\n",
              "          google.colab.kernel.accessAllowed ? 'block' : 'none';\n",
              "\n",
              "        async function convertToInteractive(key) {\n",
              "          const element = document.querySelector('#df-35c3316c-2fd1-475b-bc29-a59c30b86866');\n",
              "          const dataTable =\n",
              "            await google.colab.kernel.invokeFunction('convertToInteractive',\n",
              "                                                     [key], {});\n",
              "          if (!dataTable) return;\n",
              "\n",
              "          const docLinkHtml = 'Like what you see? Visit the ' +\n",
              "            '<a target=\"_blank\" href=https://colab.research.google.com/notebooks/data_table.ipynb>data table notebook</a>'\n",
              "            + ' to learn more about interactive tables.';\n",
              "          element.innerHTML = '';\n",
              "          dataTable['output_type'] = 'display_data';\n",
              "          await google.colab.output.renderOutput(dataTable, element);\n",
              "          const docLink = document.createElement('div');\n",
              "          docLink.innerHTML = docLinkHtml;\n",
              "          element.appendChild(docLink);\n",
              "        }\n",
              "      </script>\n",
              "    </div>\n",
              "  </div>\n",
              "  "
            ]
          },
          "metadata": {},
          "execution_count": 38
        }
      ]
    },
    {
      "cell_type": "markdown",
      "metadata": {
        "id": "f61xitl1IApl"
      },
      "source": [
        "## Plotting Term Distributions\n",
        "\n",
        "Besides frequencies and tf-idf values within documents, it is often helpful to look at the distrubitions of word frequencies in the whole collection. In class, we talk about the Zipf distribution of word rank versus frequency and Heaps' Law relating the number of distinct words to the number of tokens.\n",
        "\n",
        "We might examine these distributions to see, for instance, if an unexpectedly large number of very rare terms occurs, which might indicate noise added to our data."
      ]
    },
    {
      "cell_type": "code",
      "metadata": {
        "id": "fsM5k1_5Jj7Y",
        "colab": {
          "base_uri": "https://localhost:8080/"
        },
        "outputId": "b1d5711d-ef13-4054-ea87-2bda2809435e"
      },
      "source": [
        "# TODO: Compute a list of the distinct words in this collection and sort it in descending order of frequency.\n",
        "# Thus frequency[0] should contain the word \"the\" and the count 62216.\n",
        "\n",
        "# This step is already computed in the previous question - df_new in the top 10 word in the corpus question\n",
        "freq = df_new.reset_index().sort_values(by='count', ascending = False)\n",
        "freq_dict = freq.set_index('term').to_dict()['count']\n",
        "frequency = list(zip(freq_dict.keys(),freq_dict.values()))\n",
        "frequency[0]"
      ],
      "execution_count": 84,
      "outputs": [
        {
          "output_type": "execute_result",
          "data": {
            "text/plain": [
              "('the', 62216)"
            ]
          },
          "metadata": {},
          "execution_count": 84
        }
      ]
    },
    {
      "cell_type": "code",
      "source": [
        "import matplotlib.pyplot as plt"
      ],
      "metadata": {
        "id": "gHS0fA5r-BEO"
      },
      "execution_count": 39,
      "outputs": []
    },
    {
      "cell_type": "code",
      "metadata": {
        "id": "hdtc14EULkxS",
        "colab": {
          "base_uri": "https://localhost:8080/",
          "height": 515
        },
        "outputId": "f58b133a-92a5-47c7-8190-c1da904fb7b7"
      },
      "source": [
        "# TODO: Plot a graph of the log of the rank (starting at 1) on the x-axis,\n",
        "# against the log of the frequency on the y-axis. You may use the matplotlib\n",
        "# or other library.\n",
        "rank = list(range(1,len(frequency)+1))\n",
        "plt.figure(figsize=(10,8))\n",
        "plt.plot([math.log(elem) for elem in rank], [math.log(val) for val in freq_dict.values()])\n",
        "plt.xlabel(\"log(rank)\")\n",
        "plt.ylabel(\"log(frequency)\")"
      ],
      "execution_count": 96,
      "outputs": [
        {
          "output_type": "execute_result",
          "data": {
            "text/plain": [
              "Text(0, 0.5, 'log(frequency)')"
            ]
          },
          "metadata": {},
          "execution_count": 96
        },
        {
          "output_type": "display_data",
          "data": {
            "text/plain": [
              "<Figure size 720x576 with 1 Axes>"
            ],
            "image/png": "[encoded data removed]"
          },
          "metadata": {
            "needs_background": "light"
          }
        }
      ]
    },
    {
      "cell_type": "code",
      "source": [
        "# TODO: Compute the number of tokens in the corpus.\n",
        "# Remember to count each occurrence of each word. For instance, the 62,216\n",
        "# instances of \"the\" will all count here.\n",
        "ntokens = sum(freq_dict.values())\n",
        "print(ntokens)"
      ],
      "metadata": {
        "id": "-WdHjFCSC7WC",
        "colab": {
          "base_uri": "https://localhost:8080/"
        },
        "outputId": "05ba5ae8-dcc2-4629-c9f9-b748c317600d"
      },
      "execution_count": 98,
      "outputs": [
        {
          "output_type": "stream",
          "name": "stdout",
          "text": [
            "1000000\n"
          ]
        }
      ]
    },
    {
      "cell_type": "code",
      "source": [
        "# TODO: Compute the proportion of tokens made up by the top 10 most\n",
        "# frequent words.\n",
        "top10 = sum([pair[1] for pair in frequency[:10]])\n",
        "print(top10/ntokens)"
      ],
      "metadata": {
        "id": "V_7wOcqKAz9m",
        "colab": {
          "base_uri": "https://localhost:8080/"
        },
        "outputId": "ed2f4173-672a-4eec-d89e-79a3bc34a660"
      },
      "execution_count": 106,
      "outputs": [
        {
          "output_type": "stream",
          "name": "stdout",
          "text": [
            "0.221568\n"
          ]
        }
      ]
    },
    {
      "cell_type": "code",
      "source": [
        "# TODO: Compute the proportion of tokens made up by the words that occur\n",
        "# exactly once in this collection.\n",
        "once = len([pair for pair in frequency if pair[1] == 1])\n",
        "print(once/ntokens)"
      ],
      "metadata": {
        "id": "uF-1VxcZBXMM",
        "colab": {
          "base_uri": "https://localhost:8080/"
        },
        "outputId": "1eb422d7-aa01-4a2c-d0b8-9fd4097e6fba"
      },
      "execution_count": 110,
      "outputs": [
        {
          "output_type": "stream",
          "name": "stdout",
          "text": [
            "0.006641\n"
          ]
        }
      ]
    },
    {
      "cell_type": "markdown",
      "metadata": {
        "id": "GdiUXaXZMFqT"
      },
      "source": [
        "## Acquiring New Documents (for CS6200)\n",
        "\n",
        "For this assignment so far, you've worked with data that's already been extracted, tokenized, and counted. In this final section, you'll explore acquiring new data.\n",
        "\n",
        "One common way of acquiring data is through application programming interfaces (APIs) to various databases. The Library of Congress's [_Chronicling America_](https://chroniclingamerica.loc.gov/) site aggregates digitized US newspapers from the past two hundred years, such as the [_Seattle Star_](https://chroniclingamerica.loc.gov/lccn/sn87093407/1922-09-19/ed-1/seq-1/) from 100 years ago.\n",
        "\n",
        "You can use [the API](https://chroniclingamerica.loc.gov/about/api/) to retrieve JSON data listing all issues of the _Seattle Star_: https://chroniclingamerica.loc.gov/lccn/sn87093407.json\n",
        "\n",
        "Note the list in the `issues` field. For example, here is the record for the September 19, 1922, issue: https://chroniclingamerica.loc.gov/lccn/sn87093407/1922-09-19/ed-1.json\n",
        "\n",
        "In that issue record, you'll see records for each page, e.g.: https://chroniclingamerica.loc.gov/lccn/sn87093407/1922-09-19/ed-1/seq-1.json\n",
        "\n",
        "And inside that page record, you'll see links to data about that page in various data formats, such as JPEG, PDF, and plain text, which is what we want here: https://chroniclingamerica.loc.gov/lccn/sn87093407/1922-09-19/ed-1/seq-1/ocr.txt\n",
        "\n",
        "This plain text was transcribed from the old page images using optical character recognition (OCR) models, and so contains errors.\n",
        "\n",
        "Your task is to acquire and analyze the issues of the _Seattle Star_ from the month of September, 1922, i.e., the issues with a date field that starts with `1922-09`. This should be about the same amount of data as the million words from the Associated Press you analyzed in the last section."
      ]
    },
    {
      "cell_type": "markdown",
      "metadata": {
        "id": "EGPVnXv2O6AN"
      },
      "source": [
        "**TODO**: Write code that calls the _Chronicling America_ API to download and extract the text from the _Seattle Star_ from September 1922. You can use the `json` library from above and any other libraries you wish to fetch data from URLs. As you would when working with any production API, you may need to limit your rate of requests."
      ]
    },
    {
      "cell_type": "code",
      "metadata": {
        "id": "VeDDz1SaPLik"
      },
      "source": [
        "# TODO: Data acquisition code here."
      ],
      "execution_count": null,
      "outputs": []
    },
    {
      "cell_type": "markdown",
      "metadata": {
        "id": "L1-oRTixPKbw"
      },
      "source": [
        "**TODO**: Write code to tokenize the text and count the resulting terms in each document. Since this data comes from automatically transcribing printed pages, some words may be hyphenated across line breaks. There is more than one right way to tokenize this data, so add comments to your code documenting your choices."
      ]
    },
    {
      "cell_type": "code",
      "metadata": {
        "id": "Ydsh0h74Pnlh"
      },
      "source": [
        "# TODO: Tokenization code here."
      ],
      "execution_count": null,
      "outputs": []
    },
    {
      "cell_type": "markdown",
      "metadata": {
        "id": "D-boFCotQ4Ur"
      },
      "source": [
        "**TODO**: Plot a graph of the log rank against log frequency for your collection, as you did for the sample collection above."
      ]
    },
    {
      "cell_type": "code",
      "source": [
        "# TODO: Plotting code here."
      ],
      "metadata": {
        "id": "-Z35asgBjiqO"
      },
      "execution_count": null,
      "outputs": []
    },
    {
      "cell_type": "markdown",
      "source": [
        "**TODO**: What do you observe about the differences between the distributions of the Associated Press and Seattle Star collections? In this text box, give some possible reasons for these differences."
      ],
      "metadata": {
        "id": "D5B-h__CjpvI"
      }
    }
  ]
}